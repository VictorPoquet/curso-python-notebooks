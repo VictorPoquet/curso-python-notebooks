{
 "cells": [
  {
   "cell_type": "markdown",
   "id": "2135c2af-e293-44ab-ac31-474e6e0127e7",
   "metadata": {},
   "source": [
    "# Ejercicio Funciones"
   ]
  },
  {
   "cell_type": "code",
   "execution_count": null,
   "id": "db8cbfc5-1519-4776-9bed-ce341c52cc2d",
   "metadata": {},
   "outputs": [],
   "source": []
  }
 ],
 "metadata": {
  "kernelspec": {
   "display_name": "Python 3 (ipykernel)",
   "language": "python",
   "name": "python3"
  },
  "language_info": {
   "codemirror_mode": {
    "name": "ipython",
    "version": 3
   },
   "file_extension": ".py",
   "mimetype": "text/x-python",
   "name": "python",
   "nbconvert_exporter": "python",
   "pygments_lexer": "ipython3",
   "version": "3.9.13"
  }
 },
 "nbformat": 4,
 "nbformat_minor": 5
}
