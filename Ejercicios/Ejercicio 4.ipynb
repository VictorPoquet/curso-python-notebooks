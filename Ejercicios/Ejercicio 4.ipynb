{
 "cells": [
  {
   "cell_type": "code",
   "execution_count": null,
   "id": "9c6dda7e-d6be-4a3d-8e13-3a69c41eaa5d",
   "metadata": {},
   "outputs": [
    {
     "name": "stdout",
     "output_type": "stream",
     "text": [
      "{1: {'49486226A': ['Victor', 'Poquet Villajos'], '1111111B': ['David', 'Gonzalez']}, 2: {'494BBBB': ['B', 'B B']}, 3: {'49AAAAA': ['A', 'A A']}}\n"
     ]
    },
    {
     "name": "stdin",
     "output_type": "stream",
     "text": [
      " Seleccione una opcion:\n",
      "        1. Insertar un alumno \n",
      "        2. Validar email \n",
      "        3. Insertar alumnos\n",
      "        6. Salir\n",
      "         1\n",
      "Introduca su numero de Clase 1-3 1\n",
      "Introduca su DNI 213\n",
      "Introduca su NOMBRE 123\n",
      "Introduca su APELLIDOS 123\n"
     ]
    },
    {
     "name": "stdout",
     "output_type": "stream",
     "text": [
      "{'49486226A': ['Victor', 'Poquet Villajos'], '1111111B': ['David', 'Gonzalez'], '213': ['123', '123']}\n"
     ]
    }
   ],
   "source": [
    "opcion = '0'\n",
    "alulas = { 1:{\"49486226A\":[ \"Victor\", \"Poquet Villajos\"],\"1111111B\":[ \"David\", \"Gonzalez\"]},2:{\"494BBBB\": [\"B\", \"B B\"]},3:{\"49AAAAA\":[ \"A\", \"A A\"]}}\n",
    "print(alulas)\n",
    "\n",
    "while(not opcion == '6'):\n",
    "    opcion = input(\"\"\" Seleccione una opcion:\n",
    "        1. Insertar un alumno \n",
    "        2. Validar email \n",
    "        3. Insertar alumnos\n",
    "        6. Salir\n",
    "        \"\"\")\n",
    "    if opcion == '1':\n",
    "        aula = int(input(\"Introduca su numero de Clase 1-3\"))\n",
    "        nuevo_alumno =ceredencialesAlumno()\n",
    "        alulas.get(aula).update(nuevo_alumno)\n",
    "        print(alulas.get(aula))\n",
    "    elif opcion == '2':\n",
    "        continue\n",
    "    elif opcion == '3':\n",
    "        continue\n",
    "    elif opcion == '4':\n",
    "        continue\n",
    "    elif opcion == '5':\n",
    "        continue\n",
    "    elif opcion =='6':\n",
    "        print(\"Adios!\")\n",
    "    else:\n",
    "        print(\"Opcion incorrecta\")"
   ]
  },
  {
   "cell_type": "code",
   "execution_count": 2,
   "id": "304550de-c097-43d8-b58a-273475cd025d",
   "metadata": {},
   "outputs": [],
   "source": [
    "def ceredencialesAlumno():\n",
    "    dni = input(\"Introduca su DNI\")\n",
    "    nombre = input(\"Introduca su NOMBRE\")\n",
    "    apellidos=input(\"Introduca su APELLIDOS\")\n",
    "    nuevo_alumno ={dni:[nombre,apellidos]} \n",
    "    return nuevo_alumno\n"
   ]
  },
  {
   "cell_type": "code",
   "execution_count": null,
   "id": "baba7bbe-2c90-4e78-ac30-6654758ce42a",
   "metadata": {},
   "outputs": [],
   "source": []
  }
 ],
 "metadata": {
  "kernelspec": {
   "display_name": "Python 3 (ipykernel)",
   "language": "python",
   "name": "python3"
  },
  "language_info": {
   "codemirror_mode": {
    "name": "ipython",
    "version": 3
   },
   "file_extension": ".py",
   "mimetype": "text/x-python",
   "name": "python",
   "nbconvert_exporter": "python",
   "pygments_lexer": "ipython3",
   "version": "3.9.13"
  }
 },
 "nbformat": 4,
 "nbformat_minor": 5
}
