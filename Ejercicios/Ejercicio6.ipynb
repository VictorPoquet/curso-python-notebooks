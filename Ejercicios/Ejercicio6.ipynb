{
 "cells": [
  {
   "cell_type": "markdown",
   "id": "0743c7cd-0f5e-4a55-9510-0e41831f0e67",
   "metadata": {},
   "source": [
    "# Ejercicio 6\n"
   ]
  },
  {
   "cell_type": "code",
   "execution_count": 113,
   "id": "26b0a781-43dc-4e39-9b1a-59abbc985e10",
   "metadata": {},
   "outputs": [],
   "source": [
    "from random import randrange, choice \n",
    "class Alumno:\n",
    "\n",
    "    \n",
    "    def __init__(self, nombre, apellidos, dni, notas):\n",
    "        self.nombre = nombre\n",
    "        self.apellidos = apellidos\n",
    "        self.dni = dni\n",
    "        self.notas = notas\n",
    "        \n",
    "        print(\"Se acaba de crear el Alumno: \",nombre )\n",
    "    \n",
    "    def estudiar(self):\n",
    "        asignatrua_aleatoria = choice(list(self.notas.keys()))\n",
    "        p = \"El alumno \"+ self.nombre +\" esta estudiando \" +asignatrua_aleatoria\n",
    "        print(\"\\t\",p)\n"
   ]
  },
  {
   "cell_type": "code",
   "execution_count": 145,
   "id": "69eb6f6d-1288-4798-a039-4d27fe01a542",
   "metadata": {},
   "outputs": [
    {
     "name": "stdout",
     "output_type": "stream",
     "text": [
      "Se acaba de crear el Alumno:  Victor\n",
      "Se acaba de crear el Alumno:  Pepe\n",
      "Se acaba de crear el Alumno:  Jose\n",
      "\t El alumno Victor esta estudiando Castellano\n",
      "Victor  sus notas son:  [3, 6, 4]  y su media es  4.3\n",
      "\t El alumno Pepe esta estudiando Castellano\n",
      "Pepe  sus notas son:  [0, 6, 5]  y su media es  3.7\n",
      "\t El alumno Jose esta estudiando Castellano\n",
      "Jose  sus notas son:  [10, 7, 1]  y su media es  6.0\n",
      "Nota media TODOS los alumnos:  4.7\n"
     ]
    }
   ],
   "source": [
    "import functools\n",
    "asignaturas = [\"Matematicas\",\"Castellano\",\"Ingles\"]\n",
    "\n",
    "alumnos = list(alta_alumnos())\n",
    "calificaciones = 0\n",
    "for alumno in alumnos:\n",
    "    alumno.estudiar()\n",
    "    alumno_notas=list(alumno.notas.values())\n",
    "    alumno_notas_media =float(\"{:7.2}\".format(functools.reduce(lambda nota1, nota2 : nota1 + nota2, alumno_notas)/len(alumno_notas)))\n",
    "    print (alumno.nombre, \" sus notas son: \", alumno_notas, \" y su media es \",alumno_notas_media)\n",
    "    calificaciones += alumno_notas_media\n",
    "media_total_alumnos = float(\"{:7.2}\".format(calificaciones/len(alumnos)))\n",
    "print (\"Nota media TODOS los alumnos: \",media_total_alumnos)"
   ]
  },
  {
   "cell_type": "code",
   "execution_count": 51,
   "id": "06931371-fbbd-40b8-8723-c0b56c417eb9",
   "metadata": {},
   "outputs": [],
   "source": [
    "# Devuelve un dicrionario de notas (aleatorias) y asgintaruas\n",
    "def notas_random():\n",
    "    notas= {}\n",
    "    for n in range(3):\n",
    "        notas.update({asignaturas[n]:randrange(11)})\n",
    "    return notas"
   ]
  },
  {
   "cell_type": "code",
   "execution_count": 60,
   "id": "7bc31097-9ee6-4eb6-95e8-5ae265acfc45",
   "metadata": {},
   "outputs": [],
   "source": [
    "# Develve una listade alumnos\n",
    "def alta_alumnos():\n",
    "    alumnos_alta = list()\n",
    "    notas= notas_random()    \n",
    "    victor = Alumno(\"Victor\",\"Poquet Villajos\",\"1111V\",notas)\n",
    "    alumnos_alta.append(victor)\n",
    "    notas= notas_random()    \n",
    "    pepe = Alumno(\"Pepe\",\"Molina Mena\",\"2222P\",notas)\n",
    "    alumnos_alta.append(pepe)\n",
    "    notas= notas_random()    \n",
    "    jose = Alumno(\"Jose\",\"Luis Alcantara\",\"3333J\",notas)\n",
    "    alumnos_alta.append(jose)\n",
    "    return alumnos_alta"
   ]
  },
  {
   "cell_type": "code",
   "execution_count": null,
   "id": "6958aba8-8e36-41a6-b71a-4fbdfb452151",
   "metadata": {},
   "outputs": [],
   "source": []
  }
 ],
 "metadata": {
  "kernelspec": {
   "display_name": "Python 3 (ipykernel)",
   "language": "python",
   "name": "python3"
  },
  "language_info": {
   "codemirror_mode": {
    "name": "ipython",
    "version": 3
   },
   "file_extension": ".py",
   "mimetype": "text/x-python",
   "name": "python",
   "nbconvert_exporter": "python",
   "pygments_lexer": "ipython3",
   "version": "3.9.13"
  }
 },
 "nbformat": 4,
 "nbformat_minor": 5
}
