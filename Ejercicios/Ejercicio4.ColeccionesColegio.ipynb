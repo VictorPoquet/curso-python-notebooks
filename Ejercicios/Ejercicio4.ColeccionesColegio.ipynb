{
 "cells": [
  {
   "cell_type": "code",
   "execution_count": 49,
   "id": "9c6dda7e-d6be-4a3d-8e13-3a69c41eaa5d",
   "metadata": {},
   "outputs": [
    {
     "name": "stdout",
     "output_type": "stream",
     "text": [
      "{1: {'49486226A': ['Victor', 'Poquet Villajos'], '1111111B': ['David', 'Gonzalez']}, 2: {'3': ['B', 'B B']}, 3: {'49AAAAA': ['A', 'A A']}}\n"
     ]
    },
    {
     "name": "stdin",
     "output_type": "stream",
     "text": [
      " Seleccione una opcion:\n",
      "        1. Insertar un alumno \n",
      "        2. Mostrar alumnos colegio\n",
      "        3. Mostrar alumnos aula\n",
      "        4. Buscar alumno\n",
      "        5. Borrar alumno\n",
      "        6. Salir\n",
      "         5\n"
     ]
    },
    {
     "name": "stdout",
     "output_type": "stream",
     "text": [
      "5\n"
     ]
    },
    {
     "name": "stdin",
     "output_type": "stream",
     "text": [
      "Introduca su DNI 3\n"
     ]
    },
    {
     "name": "stdout",
     "output_type": "stream",
     "text": [
      "{1: {'49486226A': ['Victor', 'Poquet Villajos'], '1111111B': ['David', 'Gonzalez']}, 2: {}, 3: {'49AAAAA': ['A', 'A A']}}\n"
     ]
    },
    {
     "name": "stdin",
     "output_type": "stream",
     "text": [
      " Seleccione una opcion:\n",
      "        1. Insertar un alumno \n",
      "        2. Mostrar alumnos colegio\n",
      "        3. Mostrar alumnos aula\n",
      "        4. Buscar alumno\n",
      "        5. Borrar alumno\n",
      "        6. Salir\n",
      "         4\n"
     ]
    },
    {
     "name": "stdout",
     "output_type": "stream",
     "text": [
      "4\n"
     ]
    },
    {
     "name": "stdin",
     "output_type": "stream",
     "text": [
      "Introduca su DNI 49AAAAA\n"
     ]
    },
    {
     "name": "stdout",
     "output_type": "stream",
     "text": [
      "{'49AAAAA': ['A', 'A A']}\n"
     ]
    },
    {
     "ename": "KeyboardInterrupt",
     "evalue": "Interrupted by user",
     "output_type": "error",
     "traceback": [
      "\u001b[1;31m---------------------------------------------------------------------------\u001b[0m",
      "\u001b[1;31mKeyboardInterrupt\u001b[0m                         Traceback (most recent call last)",
      "\u001b[1;32m~\\AppData\\Local\\Temp\\ipykernel_364\\3349619085.py\u001b[0m in \u001b[0;36m<module>\u001b[1;34m\u001b[0m\n\u001b[0;32m      4\u001b[0m \u001b[1;33m\u001b[0m\u001b[0m\n\u001b[0;32m      5\u001b[0m \u001b[1;32mwhile\u001b[0m\u001b[1;33m(\u001b[0m\u001b[1;32mnot\u001b[0m \u001b[0mopcion\u001b[0m \u001b[1;33m==\u001b[0m \u001b[1;34m'6'\u001b[0m\u001b[1;33m)\u001b[0m\u001b[1;33m:\u001b[0m\u001b[1;33m\u001b[0m\u001b[1;33m\u001b[0m\u001b[0m\n\u001b[1;32m----> 6\u001b[1;33m     \u001b[0mopcion\u001b[0m\u001b[1;33m=\u001b[0m \u001b[0mmenu\u001b[0m\u001b[1;33m(\u001b[0m\u001b[1;33m)\u001b[0m\u001b[1;33m\u001b[0m\u001b[1;33m\u001b[0m\u001b[0m\n\u001b[0m\u001b[0;32m      7\u001b[0m     \u001b[1;32mif\u001b[0m \u001b[0mopcion\u001b[0m \u001b[1;33m==\u001b[0m \u001b[1;34m'1'\u001b[0m\u001b[1;33m:\u001b[0m\u001b[1;33m\u001b[0m\u001b[1;33m\u001b[0m\u001b[0m\n\u001b[0;32m      8\u001b[0m         \u001b[0maula\u001b[0m \u001b[1;33m=\u001b[0m \u001b[0mint\u001b[0m\u001b[1;33m(\u001b[0m\u001b[0minput\u001b[0m\u001b[1;33m(\u001b[0m\u001b[1;34m\"Introduca su numero de Clase 1-3\"\u001b[0m\u001b[1;33m)\u001b[0m\u001b[1;33m)\u001b[0m\u001b[1;33m\u001b[0m\u001b[1;33m\u001b[0m\u001b[0m\n",
      "\u001b[1;32m~\\AppData\\Local\\Temp\\ipykernel_364\\506420265.py\u001b[0m in \u001b[0;36mmenu\u001b[1;34m()\u001b[0m\n\u001b[0;32m      1\u001b[0m \u001b[1;32mdef\u001b[0m \u001b[0mmenu\u001b[0m\u001b[1;33m(\u001b[0m\u001b[1;33m)\u001b[0m\u001b[1;33m:\u001b[0m\u001b[1;33m\u001b[0m\u001b[1;33m\u001b[0m\u001b[0m\n\u001b[1;32m----> 2\u001b[1;33m     opcion = input(\"\"\" Seleccione una opcion:\n\u001b[0m\u001b[0;32m      3\u001b[0m         \u001b[1;36m1.\u001b[0m \u001b[0mInsertar\u001b[0m \u001b[0mun\u001b[0m \u001b[0malumno\u001b[0m\u001b[1;33m\u001b[0m\u001b[1;33m\u001b[0m\u001b[0m\n\u001b[0;32m      4\u001b[0m         \u001b[1;36m2.\u001b[0m \u001b[0mMostrar\u001b[0m \u001b[0malumnos\u001b[0m \u001b[0mcolegio\u001b[0m\u001b[1;33m\u001b[0m\u001b[1;33m\u001b[0m\u001b[0m\n\u001b[0;32m      5\u001b[0m         \u001b[1;36m3.\u001b[0m \u001b[0mMostrar\u001b[0m \u001b[0malumnos\u001b[0m \u001b[0maula\u001b[0m\u001b[1;33m\u001b[0m\u001b[1;33m\u001b[0m\u001b[0m\n",
      "\u001b[1;32m~\\anaconda3\\lib\\site-packages\\ipykernel\\kernelbase.py\u001b[0m in \u001b[0;36mraw_input\u001b[1;34m(self, prompt)\u001b[0m\n\u001b[0;32m   1175\u001b[0m                 \u001b[1;34m\"raw_input was called, but this frontend does not support input requests.\"\u001b[0m\u001b[1;33m\u001b[0m\u001b[1;33m\u001b[0m\u001b[0m\n\u001b[0;32m   1176\u001b[0m             )\n\u001b[1;32m-> 1177\u001b[1;33m         return self._input_request(\n\u001b[0m\u001b[0;32m   1178\u001b[0m             \u001b[0mstr\u001b[0m\u001b[1;33m(\u001b[0m\u001b[0mprompt\u001b[0m\u001b[1;33m)\u001b[0m\u001b[1;33m,\u001b[0m\u001b[1;33m\u001b[0m\u001b[1;33m\u001b[0m\u001b[0m\n\u001b[0;32m   1179\u001b[0m             \u001b[0mself\u001b[0m\u001b[1;33m.\u001b[0m\u001b[0m_parent_ident\u001b[0m\u001b[1;33m[\u001b[0m\u001b[1;34m\"shell\"\u001b[0m\u001b[1;33m]\u001b[0m\u001b[1;33m,\u001b[0m\u001b[1;33m\u001b[0m\u001b[1;33m\u001b[0m\u001b[0m\n",
      "\u001b[1;32m~\\anaconda3\\lib\\site-packages\\ipykernel\\kernelbase.py\u001b[0m in \u001b[0;36m_input_request\u001b[1;34m(self, prompt, ident, parent, password)\u001b[0m\n\u001b[0;32m   1217\u001b[0m             \u001b[1;32mexcept\u001b[0m \u001b[0mKeyboardInterrupt\u001b[0m\u001b[1;33m:\u001b[0m\u001b[1;33m\u001b[0m\u001b[1;33m\u001b[0m\u001b[0m\n\u001b[0;32m   1218\u001b[0m                 \u001b[1;31m# re-raise KeyboardInterrupt, to truncate traceback\u001b[0m\u001b[1;33m\u001b[0m\u001b[1;33m\u001b[0m\u001b[0m\n\u001b[1;32m-> 1219\u001b[1;33m                 \u001b[1;32mraise\u001b[0m \u001b[0mKeyboardInterrupt\u001b[0m\u001b[1;33m(\u001b[0m\u001b[1;34m\"Interrupted by user\"\u001b[0m\u001b[1;33m)\u001b[0m \u001b[1;32mfrom\u001b[0m \u001b[1;32mNone\u001b[0m\u001b[1;33m\u001b[0m\u001b[1;33m\u001b[0m\u001b[0m\n\u001b[0m\u001b[0;32m   1220\u001b[0m             \u001b[1;32mexcept\u001b[0m \u001b[0mException\u001b[0m\u001b[1;33m:\u001b[0m\u001b[1;33m\u001b[0m\u001b[1;33m\u001b[0m\u001b[0m\n\u001b[0;32m   1221\u001b[0m                 \u001b[0mself\u001b[0m\u001b[1;33m.\u001b[0m\u001b[0mlog\u001b[0m\u001b[1;33m.\u001b[0m\u001b[0mwarning\u001b[0m\u001b[1;33m(\u001b[0m\u001b[1;34m\"Invalid Message:\"\u001b[0m\u001b[1;33m,\u001b[0m \u001b[0mexc_info\u001b[0m\u001b[1;33m=\u001b[0m\u001b[1;32mTrue\u001b[0m\u001b[1;33m)\u001b[0m\u001b[1;33m\u001b[0m\u001b[1;33m\u001b[0m\u001b[0m\n",
      "\u001b[1;31mKeyboardInterrupt\u001b[0m: Interrupted by user"
     ]
    }
   ],
   "source": [
    "opcion = '0'\n",
    "aulas = { 1:{\"49486226A\":[ \"Victor\", \"Poquet Villajos\"],\"1111111B\":[ \"David\", \"Gonzalez\"]},2:{\"3\": [\"B\", \"B B\"]},3:{\"49AAAAA\":[ \"A\", \"A A\"]}}\n",
    "print(aulas)\n",
    "\n",
    "while(not opcion == '6'):\n",
    "    opcion= menu()\n",
    "    if opcion == '1':\n",
    "        aula = int(input(\"Introduca su numero de Clase 1-3\"))\n",
    "        nuevo_alumno =ceredencialesAlumno()\n",
    "        aulas.get(aula).update(nuevo_alumno)\n",
    "        print(aulas.get(aula))\n",
    "    elif opcion == '2':\n",
    "        for x in aulas:\n",
    "            print (\"Aula: \",x,\" - \",  aulas.get(x))\n",
    "    elif opcion == '3':\n",
    "        clase = int(input(\"Introduca la clase del 1-3 y motrare todos sus alumnos\"))\n",
    "        print (\"Aula: \",clase,\" - \",  aulas.get(clase))\n",
    "    elif opcion == '4':\n",
    "        dni = input(\"Introduca su DNI\")\n",
    "        print(devuelve_alumno(aulas,dni))\n",
    "    elif opcion == '5':\n",
    "        dni = input(\"Introduca su DNI\")\n",
    "        aulmnos = devuelve_alumno(aulas,dni)\n",
    "        aulmnos.pop(dni_alumno)\n",
    "        print(aulas)\n",
    "    elif opcion =='6':\n",
    "        print(\"Adios!\")\n",
    "    else:\n",
    "        print(\"Opcion incorrecta\")"
   ]
  },
  {
   "cell_type": "code",
   "execution_count": 24,
   "id": "304550de-c097-43d8-b58a-273475cd025d",
   "metadata": {},
   "outputs": [],
   "source": [
    "def ceredencialesAlumno():\n",
    "    dni = input(\"Introduca su DNI\")\n",
    "    nombre = input(\"Introduca su NOMBRE\")\n",
    "    apellidos=input(\"Introduca su APELLIDOS\")\n",
    "    nuevo_alumno ={dni:[nombre,apellidos]} \n",
    "    return nuevo_alumno\n"
   ]
  },
  {
   "cell_type": "code",
   "execution_count": 8,
   "id": "baba7bbe-2c90-4e78-ac30-6654758ce42a",
   "metadata": {},
   "outputs": [],
   "source": [
    "def menu():\n",
    "    opcion = input(\"\"\" Seleccione una opcion:\n",
    "        1. Insertar un alumno \n",
    "        2. Mostrar alumnos colegio\n",
    "        3. Mostrar alumnos aula\n",
    "        4. Buscar alumno\n",
    "        5. Borrar alumno\n",
    "        6. Salir\n",
    "        \"\"\")\n",
    "    return opcion"
   ]
  },
  {
   "cell_type": "code",
   "execution_count": null,
   "id": "105198f0-fcd7-4704-a78f-2f374d6c9af3",
   "metadata": {},
   "outputs": [],
   "source": [
    "def pide_datos (texto, tipo_a_devolver = \"str\")\n",
    "    valor_introducido = input(texto)\n",
    "    if tipo_a_devolver == \"str\":\n",
    "        return valor_introducido\n",
    "    else tipo_a_devolver == \"int\":\n",
    "        if valor_introducido.isdigit():\n",
    "            print(\"Entra\")\n",
    "            return int(valor_introducido)\n",
    "        else:\n",
    "            print (\"Valor incorrecto, vuelve a intentarlo\")\n",
    "            return pide_datos(texto, tipo_a_devolver)"
   ]
  },
  {
   "cell_type": "code",
   "execution_count": 48,
   "id": "7d718b95-3572-4083-8bc6-e026b2d49338",
   "metadata": {},
   "outputs": [],
   "source": [
    "def devuelve_alumno(aulas,dni):\n",
    "    for clase in aulas:\n",
    "        aulmnos = aulas.get(clase)\n",
    "        for dni_alumno in aulmnos:\n",
    "            if dni == dni_alumno:\n",
    "                return(aulmnos)"
   ]
  },
  {
   "cell_type": "code",
   "execution_count": null,
   "id": "d35a13fe-a378-47ad-9755-d75cdb31943a",
   "metadata": {},
   "outputs": [],
   "source": []
  }
 ],
 "metadata": {
  "kernelspec": {
   "display_name": "Python 3 (ipykernel)",
   "language": "python",
   "name": "python3"
  },
  "language_info": {
   "codemirror_mode": {
    "name": "ipython",
    "version": 3
   },
   "file_extension": ".py",
   "mimetype": "text/x-python",
   "name": "python",
   "nbconvert_exporter": "python",
   "pygments_lexer": "ipython3",
   "version": "3.9.13"
  }
 },
 "nbformat": 4,
 "nbformat_minor": 5
}
