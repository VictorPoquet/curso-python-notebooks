{
 "cells": [
  {
   "cell_type": "markdown",
   "metadata": {},
   "source": [
    "## Ejercicio5. Funciones Lambda"
   ]
  },
  {
   "cell_type": "markdown",
   "metadata": {},
   "source": [
    "A partir del siguiente listado de emails:\n",
    "lista_emails = [\"asdasdas.es\",\"asdas asdsdsa@sda.e\",\"asdasd@asdas@asdsad.es\", \"asdad@a.es\", \"a sgsdfsd@a.esfa.sfasdf\", \"asdas.dasd@as.dsfd.as.es \"]\n",
    "- obtener, los nombres de usuario de aquellos emails que sean validos (valido: 1@, no tiene espacios en blanco, despues de la @ hay 1 punto)\n",
    "- indicar el número de emails validos que hay dentro del listado\n"
   ]
  },
  {
   "cell_type": "code",
   "execution_count": 7,
   "metadata": {},
   "outputs": [
    {
     "name": "stdout",
     "output_type": "stream",
     "text": [
      "['asdasdas.es', 'asdas asdsdsa@sda.e', 'asdasd@asdas@asdsad.es', 'asdad@a.es', 'a sgsdfsd@a.esfa.sfasdf', 'asdas.dasd@aa.ss.es']\n"
     ]
    }
   ],
   "source": [
    "import functools\n",
    "listas_emails = [\"asdasdas.es\",\"asdas asdsdsa@sda.e\",\"asdasd@asdas@asdsad.es\", \"asdad@a.es\", \"a sgsdfsd@a.esfa.sfasdf\", \"asdas.dasd@aa.ss.es\"]\n",
    "print (listas_emails)"
   ]
  },
  {
   "cell_type": "code",
   "execution_count": 14,
   "metadata": {},
   "outputs": [
    {
     "name": "stdout",
     "output_type": "stream",
     "text": [
      "El numero total de emails validos son:  1 y es ['asdad@a.es']\n",
      "['asdad']\n"
     ]
    }
   ],
   "source": [
    "result = list(filter(lambda email: (email.find(\" \") == -1 and email.count(\"@\") == 1 and email.split(\"@\")[1].count(\".\")==1), listas_emails)) \n",
    "num_emails_validos = len(result)\n",
    "print(\"El numero total de emails validos son: \",num_emails_validos, \"y es\" if num_emails_validos ==1 else \" y son :\", result )\n",
    "usuarios = list(map(lambda email: email.split(\"@\")[0], result))\n",
    "print(usuarios)"
   ]
  },
  {
   "cell_type": "code",
   "execution_count": 20,
   "metadata": {},
   "outputs": [
    {
     "name": "stdout",
     "output_type": "stream",
     "text": [
      "1\n"
     ]
    }
   ],
   "source": [
    "print(functools.reduce(lambda u, u2: u +1, usuarios,0))\n"
   ]
  },
  {
   "cell_type": "code",
   "execution_count": null,
   "metadata": {},
   "outputs": [],
   "source": []
  }
 ],
 "metadata": {
  "kernelspec": {
   "display_name": "Python 3 (ipykernel)",
   "language": "python",
   "name": "python3"
  },
  "language_info": {
   "codemirror_mode": {
    "name": "ipython",
    "version": 3
   },
   "file_extension": ".py",
   "mimetype": "text/x-python",
   "name": "python",
   "nbconvert_exporter": "python",
   "pygments_lexer": "ipython3",
   "version": "3.9.13"
  }
 },
 "nbformat": 4,
 "nbformat_minor": 4
}
