{
 "cells": [
  {
   "cell_type": "markdown",
   "id": "ec049556-117a-4c12-920b-19e86f447b0c",
   "metadata": {},
   "source": [
    "## Ejercicio1\n"
   ]
  },
  {
   "cell_type": "markdown",
   "id": "e709bd15-e89f-41e2-8b4f-03db2e82e0ee",
   "metadata": {},
   "source": [
    "### Printar menu\n",
    "\n",
    "1. Pintar cuadrado --> \"Has seleccionado la opcion 1\"\n",
    "2. Validar email --> \"Has seleccionado la opcion 2\"\n",
    "3. Insertar alumnos --> \"Has seleccionado la opcion 3\"\n",
    "4. Salir --> \"Has seleccionado la opcion 4. \"\n"
   ]
  },
  {
   "cell_type": "code",
   "execution_count": null,
   "id": "343be0e9-f3c0-4f21-9ec6-7f38ce40acd3",
   "metadata": {},
   "outputs": [
    {
     "name": "stdin",
     "output_type": "stream",
     "text": [
      " Seleccione una opcion:\n",
      "        1. Pintar cuadrado \n",
      "        2. Validar email \n",
      "        3. Insertar alumnos\n",
      "        4. Salir\n",
      "         2\n"
     ]
    },
    {
     "name": "stdout",
     "output_type": "stream",
     "text": [
      "Has seleccionado la opcion 2\n"
     ]
    },
    {
     "name": "stdin",
     "output_type": "stream",
     "text": [
      "Introduce el correo vpv-victor@hotmail.com\n"
     ]
    },
    {
     "name": "stdout",
     "output_type": "stream",
     "text": [
      "Correo correcto se ha añadido a la lista de correos\n",
      "{'vpv-victor@hotmail.com', 'victor@hotmail.com'}\n"
     ]
    },
    {
     "name": "stdin",
     "output_type": "stream",
     "text": [
      " Seleccione una opcion:\n",
      "        1. Pintar cuadrado \n",
      "        2. Validar email \n",
      "        3. Insertar alumnos\n",
      "        4. Salir\n",
      "         2\n"
     ]
    },
    {
     "name": "stdout",
     "output_type": "stream",
     "text": [
      "Has seleccionado la opcion 2\n"
     ]
    },
    {
     "name": "stdin",
     "output_type": "stream",
     "text": [
      "Introduce el correo victor@hotmail.com\n"
     ]
    },
    {
     "name": "stdout",
     "output_type": "stream",
     "text": [
      "Correo correcto se ha añadido a la lista de correos\n",
      "{'vpv-victor@hotmail.com', 'victor@hotmail.com'}\n"
     ]
    }
   ],
   "source": [
    "# Menu de para selecionar las siguientes opciones \n",
    "# Printar menu\n",
    "# Pintar cuadrado --> \"Has seleccionado la opcion 1\"\n",
    "# Validar email --> \"Has seleccionado la opcion 2\"\n",
    "# Insertar alumnos --> \"Has seleccionado la opcion 3\"\n",
    "# Salir --> \"Has seleccionado la opcion 4. \"\n",
    "emails={\"victor@hotmail.com\"}\n",
    "opcion = '0'\n",
    "while(not opcion == '4'):\n",
    "    opcion = input(\"\"\" Seleccione una opcion:\n",
    "        1. Pintar cuadrado \n",
    "        2. Validar email \n",
    "        3. Insertar alumnos\n",
    "        4. Salir\n",
    "        \"\"\")\n",
    "    if opcion == '1':\n",
    "        for number in range(4):\n",
    "            print(\"Has seleccionado la opcion \" + opcion)\n",
    "    elif opcion == '2':\n",
    "        print(\"Has seleccionado la opcion \" + opcion)\n",
    "        new_email =input(\"Introduce el correo\")\n",
    "        errores = \"0\"\n",
    "        verificado = True\n",
    "        if new_email.find(' ') !=-1 :\n",
    "            errores += \"El correo introducido tiene espacios.\\n \"\n",
    "            verificado = False\n",
    "        if new_email.find('@') == -1:\n",
    "            errores += \"El correo introducido no tiene @.\\n \"\n",
    "            verificado = False\n",
    "        if new_email.count('@') > 1:\n",
    "            errores += \"El correo no puede tener mas de 1 @.\\n \"\n",
    "            verificado = False\n",
    "        if new_email.find('.') == -1:\n",
    "            errores += \"El correo introducido no tiene \\'.\\'\\n\"\n",
    "            verificado = False\n",
    "        if len(new_email.split('@')) >1 and new_email.split('@').count('.') > 1:\n",
    "            errores += \"El correo no puede tener mas de 1 \\'.\\'\\n\"\n",
    "            verificado = False\n",
    "        if len(new_email.split('@')) >1 and len(new_email.split('.')) >1 and len(new_email.split('@')[1].split(\".\")[0]) < 2:\n",
    "            errores += \"El correo no es correcto, tiene que un minimo de 2 caracteres depues de la @ y antes que el \\'.\\'\\n\"\n",
    "            verificado = False\n",
    "        if len(new_email.split('@')) >1 and len(new_email.split('.')) >1 and (len(new_email.split('@')[1].split(\".\")[1]) < 2 or len(new_email.split('@')[1].split(\".\")[1])) > 5:\n",
    "            errores += \"El correo no es correcto, tiene que un minimo de 2 caracteres y maximo de 5 depues del \\'.\\'\\n\"\n",
    "        if errores == \"0\":\n",
    "            emails.add(new_email)\n",
    "            print(\"Correo correcto se ha añadido a la lista de correos\")\n",
    "            print(emails)\n",
    "        else:\n",
    "            print(errores)\n",
    "            \n",
    "    elif opcion == '3':\n",
    "        print(\"Has seleccionado la opcion \" + opcion)\n",
    "        alumnos = [\"Victor\"]\n",
    "        print (alumnos)\n",
    "        nuevo_alumno = input(\"Introduce el nombre del alumno\")\n",
    "        alumnos.insert(len(alumnos), nuevo_alumno)\n",
    "        orden = 1\n",
    "        for indice in alumnos:\n",
    "            print (orden,\". \",indice)\n",
    "            orden += 1\n",
    "        \n",
    "    elif opcion =='4':\n",
    "        print(\"Has seleccionado la opcion \" + opcion)\n",
    "        print(\"Adios!\")\n",
    "    else:\n",
    "        print(\"Opcion incorrecta\")"
   ]
  },
  {
   "cell_type": "code",
   "execution_count": 48,
   "id": "eba1b0ca-b8f9-43f7-af37-360b17627ed9",
   "metadata": {},
   "outputs": [
    {
     "name": "stdin",
     "output_type": "stream",
     "text": [
      "Introduce el correo asd@as.as\n"
     ]
    },
    {
     "name": "stdout",
     "output_type": "stream",
     "text": [
      "Correo correcto se ha añadido a la lista de correos\n",
      "['victor@hotmail.com', 'asd@as.as']\n"
     ]
    }
   ],
   "source": [
    "\n",
    "\n"
   ]
  },
  {
   "cell_type": "code",
   "execution_count": 44,
   "id": "a0982be3-f818-4201-b808-c81296bf4e53",
   "metadata": {},
   "outputs": [
    {
     "ename": "KeyboardInterrupt",
     "evalue": "Interrupted by user",
     "output_type": "error",
     "traceback": [
      "\u001b[1;31m---------------------------------------------------------------------------\u001b[0m",
      "\u001b[1;31mKeyboardInterrupt\u001b[0m                         Traceback (most recent call last)",
      "\u001b[1;32m~\\AppData\\Local\\Temp\\ipykernel_16400\\2353383805.py\u001b[0m in \u001b[0;36m<module>\u001b[1;34m\u001b[0m\n\u001b[1;32m----> 1\u001b[1;33m \u001b[0maltura\u001b[0m \u001b[1;33m=\u001b[0m \u001b[0mint\u001b[0m\u001b[1;33m(\u001b[0m\u001b[0minput\u001b[0m\u001b[1;33m(\u001b[0m\u001b[1;34m\"\\nIndica tamaño altura\"\u001b[0m\u001b[1;33m)\u001b[0m\u001b[1;33m)\u001b[0m\u001b[1;33m\u001b[0m\u001b[1;33m\u001b[0m\u001b[0m\n\u001b[0m\u001b[0;32m      2\u001b[0m \u001b[0mbase\u001b[0m \u001b[1;33m=\u001b[0m \u001b[0mint\u001b[0m\u001b[1;33m(\u001b[0m\u001b[0minput\u001b[0m\u001b[1;33m(\u001b[0m\u001b[1;34m\"\\nIndica tamaño base\"\u001b[0m\u001b[1;33m)\u001b[0m\u001b[1;33m)\u001b[0m\u001b[1;33m\u001b[0m\u001b[1;33m\u001b[0m\u001b[0m\n\u001b[0;32m      3\u001b[0m \u001b[0mcaracter\u001b[0m \u001b[1;33m=\u001b[0m \u001b[1;34m\"*\"\u001b[0m\u001b[1;33m\u001b[0m\u001b[1;33m\u001b[0m\u001b[0m\n\u001b[0;32m      4\u001b[0m \u001b[1;32mfor\u001b[0m \u001b[0mlinea\u001b[0m \u001b[1;32min\u001b[0m \u001b[0mrange\u001b[0m\u001b[1;33m(\u001b[0m\u001b[0maltura\u001b[0m\u001b[1;33m)\u001b[0m\u001b[1;33m:\u001b[0m\u001b[1;33m\u001b[0m\u001b[1;33m\u001b[0m\u001b[0m\n\u001b[0;32m      5\u001b[0m     \u001b[1;32mif\u001b[0m\u001b[1;33m(\u001b[0m\u001b[0mlinea\u001b[0m\u001b[1;33m==\u001b[0m\u001b[1;36m0\u001b[0m \u001b[1;32mor\u001b[0m \u001b[0mlinea\u001b[0m \u001b[1;33m==\u001b[0m \u001b[0maltura\u001b[0m\u001b[1;33m-\u001b[0m\u001b[1;36m1\u001b[0m\u001b[1;33m)\u001b[0m\u001b[1;33m:\u001b[0m\u001b[1;33m\u001b[0m\u001b[1;33m\u001b[0m\u001b[0m\n",
      "\u001b[1;32m~\\anaconda3\\lib\\site-packages\\ipykernel\\kernelbase.py\u001b[0m in \u001b[0;36mraw_input\u001b[1;34m(self, prompt)\u001b[0m\n\u001b[0;32m   1175\u001b[0m                 \u001b[1;34m\"raw_input was called, but this frontend does not support input requests.\"\u001b[0m\u001b[1;33m\u001b[0m\u001b[1;33m\u001b[0m\u001b[0m\n\u001b[0;32m   1176\u001b[0m             )\n\u001b[1;32m-> 1177\u001b[1;33m         return self._input_request(\n\u001b[0m\u001b[0;32m   1178\u001b[0m             \u001b[0mstr\u001b[0m\u001b[1;33m(\u001b[0m\u001b[0mprompt\u001b[0m\u001b[1;33m)\u001b[0m\u001b[1;33m,\u001b[0m\u001b[1;33m\u001b[0m\u001b[1;33m\u001b[0m\u001b[0m\n\u001b[0;32m   1179\u001b[0m             \u001b[0mself\u001b[0m\u001b[1;33m.\u001b[0m\u001b[0m_parent_ident\u001b[0m\u001b[1;33m[\u001b[0m\u001b[1;34m\"shell\"\u001b[0m\u001b[1;33m]\u001b[0m\u001b[1;33m,\u001b[0m\u001b[1;33m\u001b[0m\u001b[1;33m\u001b[0m\u001b[0m\n",
      "\u001b[1;32m~\\anaconda3\\lib\\site-packages\\ipykernel\\kernelbase.py\u001b[0m in \u001b[0;36m_input_request\u001b[1;34m(self, prompt, ident, parent, password)\u001b[0m\n\u001b[0;32m   1217\u001b[0m             \u001b[1;32mexcept\u001b[0m \u001b[0mKeyboardInterrupt\u001b[0m\u001b[1;33m:\u001b[0m\u001b[1;33m\u001b[0m\u001b[1;33m\u001b[0m\u001b[0m\n\u001b[0;32m   1218\u001b[0m                 \u001b[1;31m# re-raise KeyboardInterrupt, to truncate traceback\u001b[0m\u001b[1;33m\u001b[0m\u001b[1;33m\u001b[0m\u001b[0m\n\u001b[1;32m-> 1219\u001b[1;33m                 \u001b[1;32mraise\u001b[0m \u001b[0mKeyboardInterrupt\u001b[0m\u001b[1;33m(\u001b[0m\u001b[1;34m\"Interrupted by user\"\u001b[0m\u001b[1;33m)\u001b[0m \u001b[1;32mfrom\u001b[0m \u001b[1;32mNone\u001b[0m\u001b[1;33m\u001b[0m\u001b[1;33m\u001b[0m\u001b[0m\n\u001b[0m\u001b[0;32m   1220\u001b[0m             \u001b[1;32mexcept\u001b[0m \u001b[0mException\u001b[0m\u001b[1;33m:\u001b[0m\u001b[1;33m\u001b[0m\u001b[1;33m\u001b[0m\u001b[0m\n\u001b[0;32m   1221\u001b[0m                 \u001b[0mself\u001b[0m\u001b[1;33m.\u001b[0m\u001b[0mlog\u001b[0m\u001b[1;33m.\u001b[0m\u001b[0mwarning\u001b[0m\u001b[1;33m(\u001b[0m\u001b[1;34m\"Invalid Message:\"\u001b[0m\u001b[1;33m,\u001b[0m \u001b[0mexc_info\u001b[0m\u001b[1;33m=\u001b[0m\u001b[1;32mTrue\u001b[0m\u001b[1;33m)\u001b[0m\u001b[1;33m\u001b[0m\u001b[1;33m\u001b[0m\u001b[0m\n",
      "\u001b[1;31mKeyboardInterrupt\u001b[0m: Interrupted by user"
     ]
    }
   ],
   "source": [
    "\n",
    "altura = int(input(\"\\nIndica tamaño altura\"))\n",
    "base = int(input(\"\\nIndica tamaño base\"))\n",
    "caracter = \"*\"\n",
    "for linea in range(altura):\n",
    "    if(linea==0 or linea == altura-1):\n",
    "        print(base*caracter)\n",
    "    else:\n",
    "        print(caracter, end = \"\")\n",
    "        cadena = \" \" * (base-2)\n",
    "        print(cadena, end=\"\")\n",
    "        print(caracter)\n",
    "                "
   ]
  },
  {
   "cell_type": "code",
   "execution_count": null,
   "id": "a170732a-fd0f-4b6f-8925-1fa3d466d77b",
   "metadata": {},
   "outputs": [],
   "source": []
  }
 ],
 "metadata": {
  "kernelspec": {
   "display_name": "Python 3 (ipykernel)",
   "language": "python",
   "name": "python3"
  },
  "language_info": {
   "codemirror_mode": {
    "name": "ipython",
    "version": 3
   },
   "file_extension": ".py",
   "mimetype": "text/x-python",
   "name": "python",
   "nbconvert_exporter": "python",
   "pygments_lexer": "ipython3",
   "version": "3.9.13"
  }
 },
 "nbformat": 4,
 "nbformat_minor": 5
}
