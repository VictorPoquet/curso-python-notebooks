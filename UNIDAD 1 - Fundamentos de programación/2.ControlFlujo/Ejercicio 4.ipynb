{
 "cells": [
  {
   "cell_type": "code",
   "execution_count": 7,
   "id": "9c6dda7e-d6be-4a3d-8e13-3a69c41eaa5d",
   "metadata": {},
   "outputs": [
    {
     "name": "stdout",
     "output_type": "stream",
     "text": [
      "{1: {'49486226A': ['Victor', 'Poquet Villajos'], '1111111B': ['David', 'Gonzalez']}, 2: {'494BBBB': ['B', 'B B']}, 3: {'49AAAAA': ['A', 'A A']}}\n"
     ]
    },
    {
     "name": "stdin",
     "output_type": "stream",
     "text": [
      " Seleccione una opcion:\n",
      "        1. Insertar un alumno \n",
      "        2. Validar email \n",
      "        3. Insertar alumnos\n",
      "        6. Salir\n",
      "         1\n"
     ]
    },
    {
     "name": "stdout",
     "output_type": "stream",
     "text": [
      "Hello from a function\n"
     ]
    },
    {
     "name": "stdin",
     "output_type": "stream",
     "text": [
      "Introduca su numero de Clase 1-3 1\n",
      "Introduca su DNI qwqewewq\n",
      "Introduca su NOMBRE qweweqewq\n",
      "Introduca su APELLIDOS wqeweqwae\n"
     ]
    },
    {
     "ename": "TypeError",
     "evalue": "'builtin_function_or_method' object is not subscriptable",
     "output_type": "error",
     "traceback": [
      "\u001b[1;31m---------------------------------------------------------------------------\u001b[0m",
      "\u001b[1;31mTypeError\u001b[0m                                 Traceback (most recent call last)",
      "\u001b[1;32m~\\AppData\\Local\\Temp\\ipykernel_12724\\1053177063.py\u001b[0m in \u001b[0;36m<module>\u001b[1;34m\u001b[0m\n\u001b[0;32m     14\u001b[0m         \u001b[0mnuevo_alumno\u001b[0m \u001b[1;33m=\u001b[0m\u001b[0mmy_function\u001b[0m\u001b[1;33m(\u001b[0m\u001b[1;33m)\u001b[0m\u001b[1;33m\u001b[0m\u001b[1;33m\u001b[0m\u001b[0m\n\u001b[0;32m     15\u001b[0m \u001b[1;33m\u001b[0m\u001b[0m\n\u001b[1;32m---> 16\u001b[1;33m         \u001b[0mclase\u001b[0m \u001b[1;33m=\u001b[0m \u001b[0mnuevo_alumno\u001b[0m\u001b[1;33m.\u001b[0m\u001b[0mkeys\u001b[0m\u001b[1;33m[\u001b[0m\u001b[1;36m0\u001b[0m\u001b[1;33m]\u001b[0m\u001b[1;33m\u001b[0m\u001b[1;33m\u001b[0m\u001b[0m\n\u001b[0m\u001b[0;32m     17\u001b[0m         \u001b[0mprint\u001b[0m \u001b[1;33m(\u001b[0m\u001b[0mclase\u001b[0m\u001b[1;33m,\u001b[0m \u001b[0mtype\u001b[0m\u001b[1;33m(\u001b[0m\u001b[0mclase\u001b[0m\u001b[1;33m)\u001b[0m\u001b[1;33m)\u001b[0m\u001b[1;33m\u001b[0m\u001b[1;33m\u001b[0m\u001b[0m\n\u001b[0;32m     18\u001b[0m         \u001b[0malulas\u001b[0m\u001b[1;33m.\u001b[0m\u001b[0mget\u001b[0m\u001b[1;33m(\u001b[0m\u001b[0mclase\u001b[0m\u001b[1;33m)\u001b[0m\u001b[1;33m.\u001b[0m\u001b[0mupdate\u001b[0m\u001b[1;33m(\u001b[0m\u001b[0mnuevo_alumno\u001b[0m\u001b[1;33m)\u001b[0m\u001b[1;33m\u001b[0m\u001b[1;33m\u001b[0m\u001b[0m\n",
      "\u001b[1;31mTypeError\u001b[0m: 'builtin_function_or_method' object is not subscriptable"
     ]
    }
   ],
   "source": [
    "opcion = '0'\n",
    "alulas = { 1:{\"49486226A\":[ \"Victor\", \"Poquet Villajos\"],\"1111111B\":[ \"David\", \"Gonzalez\"]},2:{\"494BBBB\": [\"B\", \"B B\"]},3:{\"49AAAAA\":[ \"A\", \"A A\"]}}\n",
    "print(alulas)\n",
    "\n",
    "while(not opcion == '6'):\n",
    "    opcion = input(\"\"\" Seleccione una opcion:\n",
    "        1. Insertar un alumno \n",
    "        2. Validar email \n",
    "        3. Insertar alumnos\n",
    "        6. Salir\n",
    "        \"\"\")\n",
    "    if opcion == '1':\n",
    "        \n",
    "        nuevo_alumno =my_function()\n",
    "    \n",
    "        clase = 0 in nuevo_alumno.keys\n",
    "        print (clase, type(clase))\n",
    "        alulas.get(clase).update(nuevo_alumno)\n",
    "        print(alulas.get(clase))\n",
    "    elif opcion == '2':\n",
    "        continue\n",
    "    elif opcion == '3':\n",
    "        continue\n",
    "    elif opcion == '4':\n",
    "        continue\n",
    "    elif opcion == '5':\n",
    "        continue\n",
    "    elif opcion =='6':\n",
    "        print(\"Adios!\")\n",
    "    else:\n",
    "        print(\"Opcion incorrecta\")"
   ]
  },
  {
   "cell_type": "code",
   "execution_count": 3,
   "id": "304550de-c097-43d8-b58a-273475cd025d",
   "metadata": {},
   "outputs": [],
   "source": [
    "def my_function():\n",
    "    print(\"Hello from a function\")\n",
    "    aula = int(input(\"Introduca su numero de Clase 1-3\"))\n",
    "    dni = input(\"Introduca su DNI\")\n",
    "    nombre = input(\"Introduca su NOMBRE\")\n",
    "    apellidos=input(\"Introduca su APELLIDOS\")\n",
    "    nuevo_alumno ={dni:[nombre,apellidos]} \n",
    "    return nuevo_alumno\n"
   ]
  },
  {
   "cell_type": "code",
   "execution_count": null,
   "id": "baba7bbe-2c90-4e78-ac30-6654758ce42a",
   "metadata": {},
   "outputs": [],
   "source": []
  }
 ],
 "metadata": {
  "kernelspec": {
   "display_name": "Python 3 (ipykernel)",
   "language": "python",
   "name": "python3"
  },
  "language_info": {
   "codemirror_mode": {
    "name": "ipython",
    "version": 3
   },
   "file_extension": ".py",
   "mimetype": "text/x-python",
   "name": "python",
   "nbconvert_exporter": "python",
   "pygments_lexer": "ipython3",
   "version": "3.9.13"
  }
 },
 "nbformat": 4,
 "nbformat_minor": 5
}
