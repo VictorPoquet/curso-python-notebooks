{
 "cells": [
  {
   "cell_type": "markdown",
   "id": "ec049556-117a-4c12-920b-19e86f447b0c",
   "metadata": {},
   "source": [
    "## Ejercicio1\n"
   ]
  },
  {
   "cell_type": "markdown",
   "id": "e709bd15-e89f-41e2-8b4f-03db2e82e0ee",
   "metadata": {},
   "source": [
    "### Printar menu\n",
    "\n",
    "1. Pintar cuadrado --> \"Has seleccionado la opcion 1\"\n",
    "2. Validar email --> \"Has seleccionado la opcion 2\"\n",
    "3. Insertar alumnos --> \"Has seleccionado la opcion 3\"\n",
    "4. Salir --> \"Has seleccionado la opcion 4. \"\n"
   ]
  },
  {
   "cell_type": "code",
   "execution_count": 55,
   "id": "343be0e9-f3c0-4f21-9ec6-7f38ce40acd3",
   "metadata": {},
   "outputs": [
    {
     "name": "stdin",
     "output_type": "stream",
     "text": [
      " Seleccione una opcion:\n",
      "        1. Pintar cuadrado \n",
      "        2. Validar email \n",
      "        3. Insertar alumnos\n",
      "        4. Salir\n",
      "         3\n"
     ]
    },
    {
     "name": "stdout",
     "output_type": "stream",
     "text": [
      "Has seleccionado la opcion 3\n",
      "['Victor']\n"
     ]
    },
    {
     "name": "stdin",
     "output_type": "stream",
     "text": [
      "Introduce el nombre del alumno a\n"
     ]
    },
    {
     "name": "stdout",
     "output_type": "stream",
     "text": [
      "1 .  Victor\n",
      "2 .  a\n"
     ]
    },
    {
     "name": "stdin",
     "output_type": "stream",
     "text": [
      " Seleccione una opcion:\n",
      "        1. Pintar cuadrado \n",
      "        2. Validar email \n",
      "        3. Insertar alumnos\n",
      "        4. Salir\n",
      "         4\n"
     ]
    },
    {
     "name": "stdout",
     "output_type": "stream",
     "text": [
      "Has seleccionado la opcion 4\n",
      "Adios!\n"
     ]
    }
   ],
   "source": [
    "# Menu de para selecionar las siguientes opciones \n",
    "# Printar menu\n",
    "# Pintar cuadrado --> \"Has seleccionado la opcion 1\"\n",
    "# Validar email --> \"Has seleccionado la opcion 2\"\n",
    "# Insertar alumnos --> \"Has seleccionado la opcion 3\"\n",
    "# Salir --> \"Has seleccionado la opcion 4. \"\n",
    "\n",
    "opcion = '0'\n",
    "while(not opcion == '4'):\n",
    "    opcion = input(\"\"\" Seleccione una opcion:\n",
    "        1. Pintar cuadrado \n",
    "        2. Validar email \n",
    "        3. Insertar alumnos\n",
    "        4. Salir\n",
    "        \"\"\")\n",
    "    if opcion == '1':\n",
    "        for number in range(4):\n",
    "            print(\"Has seleccionado la opcion \" + opcion)\n",
    "    elif opcion == '2':\n",
    "        print(\"Has seleccionado la opcion \" + opcion)\n",
    "        email = input(\"Introduce tu correo\")\n",
    "        confirm_email = input(\"Introduce tu correo de nuevo\")\n",
    "        if email == confirm_email:\n",
    "            print(\"Los correos son iguales\")\n",
    "        else:\n",
    "            print (\"Los correos son diferentes\")\n",
    "    elif opcion == '3':\n",
    "        print(\"Has seleccionado la opcion \" + opcion)\n",
    "        alumnos = [\"Victor\"]\n",
    "        print (alumnos)\n",
    "        nuevo_alumno = input(\"Introduce el nombre del alumno\")\n",
    "        alumnos.insert(len(alumnos), nuevo_alumno)\n",
    "        orden = 1\n",
    "        for indice in alumnos:\n",
    "            print (orden,\". \",indice)\n",
    "            orden += 1\n",
    "        \n",
    "    elif opcion =='4':\n",
    "        print(\"Has seleccionado la opcion \" + opcion)\n",
    "        print(\"Adios!\")\n",
    "    else:\n",
    "        print(\"Opcion incorrecta\")"
   ]
  },
  {
   "cell_type": "code",
   "execution_count": 129,
   "id": "eba1b0ca-b8f9-43f7-af37-360b17627ed9",
   "metadata": {},
   "outputs": [
    {
     "name": "stdin",
     "output_type": "stream",
     "text": [
      "Tamaño del cuadrado 4\n",
      "caracter del cuadrado +\n"
     ]
    },
    {
     "name": "stdout",
     "output_type": "stream",
     "text": [
      "++++\n",
      "+   +\n",
      "+   +\n",
      "++++\n"
     ]
    }
   ],
   "source": [
    "cuadrado =int(input(\"Tamaño del cuadrado\"))\n",
    "caracter =input(\"caracter del cuadrado\")\n",
    "\n",
    "for i in range(cuadrado):\n",
    "    if i == 0 or i == cuadrado-1:\n",
    "        print(caracter*cuadrado)\n",
    "    else:\n",
    "         print(caracter,\" \"*(cuadrado-3),caracter)\n",
    "        \n"
   ]
  },
  {
   "cell_type": "code",
   "execution_count": null,
   "id": "a0982be3-f818-4201-b808-c81296bf4e53",
   "metadata": {},
   "outputs": [],
   "source": []
  }
 ],
 "metadata": {
  "kernelspec": {
   "display_name": "Python 3 (ipykernel)",
   "language": "python",
   "name": "python3"
  },
  "language_info": {
   "codemirror_mode": {
    "name": "ipython",
    "version": 3
   },
   "file_extension": ".py",
   "mimetype": "text/x-python",
   "name": "python",
   "nbconvert_exporter": "python",
   "pygments_lexer": "ipython3",
   "version": "3.9.13"
  }
 },
 "nbformat": 4,
 "nbformat_minor": 5
}
